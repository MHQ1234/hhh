{
 "cells": [
  {
   "cell_type": "markdown",
   "metadata": {},
   "source": [
    "## 量化投资期中"
   ]
  },
  {
   "cell_type": "code",
   "execution_count": null,
   "metadata": {},
   "outputs": [],
   "source": [
    "import datetime as dt\n",
    "from scipy import stats, optimize\n",
    "import WindCharts as wc\n",
    "import pandas as pd\n",
    "import WindAlpha as wa\n",
    "from WindPy import *\n",
    "import numpy as np\n",
    "from WindAlgo import * #引入回测框架\n",
    "from WindCharts import *\n",
    "from math import *\n",
    "import statsmodels.api as sm\n",
    "from collections import OrderedDict\n",
    "import matplotlib.pyplot as plt\n",
    "import seaborn as sns\n",
    "w.start()\n",
    "sns.set_style('whitegrid')\n",
    "\n",
    "#w.wsd(\"000300.SH\", \"val_lnmv,ps_ttm,pcf_ncf_ttm,fa_roenp_ttm,fa_orgr_ttm,fa_npgr_ttm,fa_equityassetradio,fa_ocftodebt,tech_turnoverrate20\", \"2016-01-01\", \"2017-12-31\", \"Fill=Previous\", usedf=True)\n",
    "factor=['val_lnmv','ps_ttm','pcf_ncf_ttm','fa_roenp_ttm','fa_orgr_ttm','fa_npgr_ttm','fa_equityassetradio','fa_ocftodebt','tech_turnoverrate20']\n",
    "raw_data = wa.prepare_raw_data('000300.SH', factor, '2016-02-01','2021-10-01')"
   ]
  },
  {
   "cell_type": "code",
   "execution_count": null,
   "metadata": {},
   "outputs": [],
   "source": [
    "factor=list(set(factor))\n",
    "factor\n",
    "raw_data"
   ]
  },
  {
   "cell_type": "code",
   "execution_count": null,
   "metadata": {},
   "outputs": [],
   "source": [
    "processed_data = wa.process_raw_data(raw_data, scale_method='cap') #数据处理\n",
    "processed_data"
   ]
  },
  {
   "cell_type": "code",
   "execution_count": null,
   "metadata": {},
   "outputs": [],
   "source": [
    "#因子分析选股\n",
    "#回归法\n",
    "selectnum = 15\n",
    "predict_y = wa.regress_indicators(processed_data)\n",
    "tgt_stock = predict_y['NEXT_RET'].sort_values(ascending=False).loc[['2021-08-31']]\n",
    "tgt_stock = tgt_stock[:selectnum].index.get_level_values(1)\n",
    "tgt_stock1 = tgt_stock.tolist()\n",
    "tgt_stock1"
   ]
  },
  {
   "cell_type": "code",
   "execution_count": null,
   "metadata": {},
   "outputs": [],
   "source": [
    "#打分法\n",
    "df_score = wa.score_indicators(processed_data, score_method='ic')\n",
    "selectnum = 15\n",
    "tgt_stock = df_score['SCORE'].sort_values(ascending=False)[:selectnum].index.get_level_values(1)\n",
    "tgt_stock2 =tgt_stock.tolist() #得到要投资的股票\n",
    "tgt_stock2"
   ]
  },
  {
   "cell_type": "code",
   "execution_count": null,
   "metadata": {},
   "outputs": [],
   "source": [
    "ic_ana = wa.ic_analysis(df_score)\n",
    "ind = 'SCORE'\n",
    "fig_ic_score = WLine(\"IC序列:SCORE\",\"2016.02-2021.10\",ic_ana.ic_series.loc[ind])\n",
    "fig_ic_score.plot()"
   ]
  },
  {
   "cell_type": "code",
   "execution_count": null,
   "metadata": {},
   "outputs": [],
   "source": [
    "score_ret_ana = wa.return_analysis(df_score,'000300.SH','2016-02-01','2021-10-01')\n",
    "score_ret_ana.return_stats\n",
    "score_ret_line = WLine(\"收益率：{}\".format('SCORE'),\"2016.01-2017.12\",\n",
    "round(score_ret_ana.group_cum_return[['G01-G05','G01','G05','BENCH_RET']].loc['SCORE'],4),auto_yaxis=True)\n",
    "score_ret_line.plot()"
   ]
  },
  {
   "cell_type": "code",
   "execution_count": null,
   "metadata": {},
   "outputs": [],
   "source": [
    "score_code_ana = wa.code_analysis(df_score)\n",
    "score_code_ana.group_stock_list.loc['SCORE']\n",
    "score_data = score_code_ana.group_industry_ratio.loc['SCORE'].loc['G01']\n",
    "chart_score = WStacking_bar(title=\"因子选股行业占比\", data=score_data.T, data_label=False)\n",
    "chart_score.plot()"
   ]
  },
  {
   "cell_type": "code",
   "execution_count": null,
   "metadata": {},
   "outputs": [],
   "source": [
    "score_code_ana.group_industry_mean_ratio"
   ]
  },
  {
   "cell_type": "code",
   "execution_count": null,
   "metadata": {},
   "outputs": [],
   "source": [
    "#将打分法和回归法得到的股票合并去重\n",
    "tgt_stock = list(set(tgt_stock1+tgt_stock2))\n",
    "close_matrix=w.wsd(tgt_stock, \"close\", \"2021-09-01\", \"2021-10-01\", \"\",usedf=True)[1]\n",
    "return_matrix=w.wsd(tgt_stock, \"pct_chg\", \"2021-09-01\", \"2021-10-01\", \"\",usedf=True)[1] #得到11月收益矩阵\n",
    "return_matrix"
   ]
  },
  {
   "cell_type": "code",
   "execution_count": null,
   "metadata": {},
   "outputs": [],
   "source": [
    "#模拟出100个资产组合并作图\n",
    "# Random seed\n",
    "np.random.seed(2021)\n",
    "## NUMBER OF ASSETS\n",
    "n_assets = selectnum\n",
    "## NUMBER OF OBSERVATIONS\n",
    "n_obs = 13\n",
    "return_vec = return_matrix.T\n",
    "c = 0\n",
    "def rand_weights(n):\n",
    "    'produces n random weights that sum to 1'\n",
    "    k = np.random.rand(n)\n",
    "    return k / sum(k)\n",
    "def random_portfolio(returns):\n",
    "    global c\n",
    "    c += 1\n",
    "    'Returns the mean and standard deviation of returns for a random portfolio'\n",
    "    #每日收益率序列是根据“已知（或估计）的正态ret随机变量生成的\n",
    "    p = np.asmatrix(np.mean(returns, axis=1)) #随机生成各资产权重\n",
    "    w = np.asmatrix(rand_weights(returns.shape[0]))\n",
    "    C = np.asmatrix(np.cov(returns))\n",
    "    mu = w * p.T\n",
    "    sigma = np.sqrt(w * C * w.T)\n",
    "    # This recursion reduces outliers to keep plots pretty\n",
    "    # 后期要作图，希望让风险-收益的点，出现在一个适合显示的范围\n",
    "    if sigma > 1 and c <= 2000: #如果std>1，后面就不显示这个点\n",
    "        return random_portfolio(returns) #重新计算1\n",
    "    return mu, sigma\n",
    "n_portfolios = 100 #仿真n_portfolios个资产组合\n",
    "means, stds = np.column_stack([random_portfolio(return_vec) for _ in range(n_portfolios)])\n",
    "plt.plot(stds, means, 'o', markersize=5)\n",
    "plt.xlabel('std')\n",
    "plt.ylabel('mean')\n",
    "plt.title('Mean and standard deviation of returns of randomly generated portfolios')"
   ]
  },
  {
   "cell_type": "code",
   "execution_count": null,
   "metadata": {},
   "outputs": [],
   "source": [
    "#得到最优权重并作图\n",
    "import cvxopt as opt\n",
    "from cvxopt import blas, solvers\n",
    "import plotly.plotly as py\n",
    "import plotly.tools as tls\n",
    "from plotly.graph_objs import *\n",
    "solvers.options['show_progress'] = False\n",
    "def optimal_portfolio(returns):\n",
    "    n = len(returns)\n",
    "    returns = np.asmatrix(returns)\n",
    "    N = 1000\n",
    "    mus = [10**(5.0 * t/N - 1.0) for t in range(N)]\n",
    "    # Convert to cvxopt matrices\n",
    "    S = opt.matrix(np.cov(returns))\n",
    "    pbar = opt.matrix(np.mean(returns, axis=1))\n",
    "    # Create constraint matrices\n",
    "    G = -opt.matrix(np.eye(n)) # negative n x n identity matrix\n",
    "    h = opt.matrix(0.0, (n ,1))\n",
    "    A = opt.matrix(1.0, (1, n))\n",
    "    b = opt.matrix(1.0)\n",
    "    # Calculate efficient frontier weights using quadratic programming\n",
    "    portfolios = [solvers.qp(mu*S, -pbar, G, h, A, b)['x'] for mu in mus]\n",
    "    ## CALCULATE RISKS AND RETURNS FOR FRONTIER\n",
    "    returns = [blas.dot(pbar, x) for x in portfolios]\n",
    "    risks = [np.sqrt(blas.dot(x, S*x)) for x in portfolios]\n",
    "    ## CALCULATE THE 2ND DEGREE POLYNOMIAL OF THE FRONTIER CURVE\n",
    "    m1 = np.polyfit(returns, risks, 2)\n",
    "    x1 = np.sqrt(m1[2] / m1[0])\n",
    "    # CALCULATE THE OPTIMAL PORTFOLIO\n",
    "    wt = solvers.qp(opt.matrix(x1 * S), -pbar, G, h, A, b)['x']\n",
    "    return np.asarray(wt), returns, risks\n",
    "optweights, optreturns, optrisks = optimal_portfolio(return_vec)\n",
    "plt.plot(stds, means, 'o')\n",
    "plt.ylabel('mean')\n",
    "plt.xlabel('std')\n",
    "plt.plot(optrisks, optreturns, 'y-o')"
   ]
  },
  {
   "cell_type": "code",
   "execution_count": null,
   "metadata": {},
   "outputs": [],
   "source": [
    "#计算按照给定最优权重后得到的资产净值变化\n",
    "closevalue = np.matmul(np.array(close_matrix), np.array(optweights))\n",
    "returns = closevalue/closevalue[0]\n",
    "close_bench=w.wsd('000300.SH', \"close\", \"2021-09-01\", \"2021-10-01\", \"\", usedf=True)[1]\n",
    "close_bench=close_bench['CLOSE']\n",
    "return_bench=close_bench/close_bench[0]\n",
    "return_bench = np.array(return_bench)\n",
    "a = pd.DataFrame(return_bench,columns=['benchreturn'])\n",
    "a['portfolioreturn']=returns\n",
    "#作出所选组合和benchmark（沪深300）在12月的收益图\n",
    "plt.plot(a)\n",
    "plt.title('return in September')\n",
    "plt.legend(['benchmark','portfolio'])\n",
    "plt.show()"
   ]
  },
  {
   "cell_type": "code",
   "execution_count": null,
   "metadata": {},
   "outputs": [],
   "source": [
    "code_list=score_code_ana.group_stock_list.loc['SCORE']\n",
    "stock_G01 = code_list['G01']\n",
    "stock_G05 = code_list['G05']\n",
    "stock_G01\n",
    "\n",
    "list_A = w.wset(\"SectorConstituent\",u\"date=20160201;sector=全部A股\").Data[1] #全部A股作为初始股票池\n",
    "def initialize(context): #定义初始化函数\n",
    "    global stock_G01\n",
    "    context.capital = 1000000 #回测的初始资金\n",
    "    context.securities = list_A #回测标的 这里是全部A股\n",
    "    context.start_date = \"20160201\" #回测开始时间\n",
    "    context.end_date = \"20211001\" #回测结束时间\n",
    "    context.period = 'd' # 'd' 代表日, 'm'代表分钟 表示行情数据的频率\n",
    "    context.benchmark = '000300.SH' #设置回测基准为沪深300\n",
    "    context.stock_list = stock_G01\n",
    "def handle_data(bar_datetime, context, bar_data):\n",
    "    pass\n",
    "def my_schedule1(bar_datetime, context, bar_data):\n",
    "    bar_datetime_str = bar_datetime.strftime('%Y-%m-%d') #设置时间\n",
    "    code_list = list(context.stock_list[bar_datetime_str]) #选择最后10%的股票 即因子最大的10%的股票\n",
    "    wa.change_securities(code_list)\n",
    "    context.securities = code_list #改变股票池\n",
    "    list_sell = list(wa.query_position().get_field('code')) #要卖出的股票\n",
    "    for code in list_sell:\n",
    "        volumn = wa.query_position()[code]['volume'] #找到每个code的持仓量\n",
    "        res = wa.order(code,volumn,'sell',price='close', volume_check=False) #卖出上个月所有仓位，为本月的建仓做准备\n",
    "def my_schedule2(bar_datetime, context,bar_data):\n",
    "    buy_code_list=list(set(context.securities)-(set(context.securities)-set(list(bar_data.get_field('code'))))) # 在单因子选股的结果中 剔除没有行情的股票\n",
    "    for code in buy_code_list:\n",
    "        res = wa.order_percent(code,1/len(buy_code_list),'buy',price='close',volume_check=False)\n",
    "#对最终选择出来的股票建仓 每个股票仓位相同 '本月建仓完毕'\n",
    "wa = BackTest(init_func = initialize, handle_data_func=handle_data) #实例化回测对象\n",
    "wa.schedule(my_schedule1, \"m\", -1) #月末按收盘价卖出股票\n",
    "wa.schedule(my_schedule2, \"m\", -1) #月末按收盘价买入股票\n",
    "res = wa.run(show_progress=True) #调用run()函数开始回测,show_progress可用于指定是否显示回测净值曲线图\n",
    "nav_df = wa.summary('nav') #获取回测结果 回测周期内每一天的组合净值"
   ]
  }
 ],
 "metadata": {
  "kernelspec": {
   "display_name": "Python 3",
   "language": "python",
   "name": "python3"
  },
  "language_info": {
   "codemirror_mode": {
    "name": "ipython",
    "version": 3
   },
   "file_extension": ".py",
   "mimetype": "text/x-python",
   "name": "python",
   "nbconvert_exporter": "python",
   "pygments_lexer": "ipython3",
   "version": "3.8.8"
  }
 },
 "nbformat": 4,
 "nbformat_minor": 4
}
